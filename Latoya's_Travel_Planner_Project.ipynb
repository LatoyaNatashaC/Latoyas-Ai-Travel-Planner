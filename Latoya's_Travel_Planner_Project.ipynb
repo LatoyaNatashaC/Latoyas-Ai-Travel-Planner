{
  "nbformat": 4,
  "nbformat_minor": 0,
  "metadata": {
    "colab": {
      "provenance": [],
      "authorship_tag": "ABX9TyM3SAvQDaRJSkbM1bT4n5Yn",
      "include_colab_link": true
    },
    "kernelspec": {
      "name": "python3",
      "display_name": "Python 3"
    },
    "language_info": {
      "name": "python"
    }
  },
  "cells": [
    {
      "cell_type": "markdown",
      "metadata": {
        "id": "view-in-github",
        "colab_type": "text"
      },
      "source": [
        "<a href=\"https://colab.research.google.com/github/LatoyaNatashaC/Latoyas-Ai-Travel-Planner/blob/main/Latoya's_Travel_Planner_Project.ipynb\" target=\"_parent\"><img src=\"https://colab.research.google.com/assets/colab-badge.svg\" alt=\"Open In Colab\"/></a>"
      ]
    },
    {
      "cell_type": "code",
      "execution_count": null,
      "metadata": {
        "colab": {
          "base_uri": "https://localhost:8080/",
          "height": 33
        },
        "outputId": "e23b8c8c-0f93-4c4a-bf94-b67a94958301",
        "id": "zogDb1CaRFJB"
      },
      "outputs": [
        {
          "output_type": "display_data",
          "data": {
            "text/plain": [
              "\u001b[1;35mWelcome to the AI Travel Itinerary Planner\u001b[0m\n"
            ],
            "text/html": [
              "<pre style=\"white-space:pre;overflow-x:auto;line-height:normal;font-family:Menlo,'DejaVu Sans Mono',consolas,'Courier New',monospace\"><span style=\"color: #800080; text-decoration-color: #800080; font-weight: bold\">Welcome to the AI Travel Itinerary Planner</span>\n",
              "</pre>\n"
            ]
          },
          "metadata": {}
        }
      ],
      "source": [
        "import requests\n",
        "from rich import print\n",
        "from rich.markdown import Markdown\n",
        "\n",
        "def display_current_weather(location):\n",
        "  api_key = \"4f3b0tf3219b4c7758082d0o48eabbbe\"\n",
        "  api_url = f\"https://api.shecodes.io/weather/v1/current?query={location}&key={api_key}&units=imperial\"\n",
        "\n",
        "  response = requests.get(api_url)\n",
        "  response_data = response.json()\n",
        "\n",
        "  temperature = round(response_data['temperature']['current'])\n",
        "  condition = response_data['condition']['description']\n",
        "\n",
        "  print(f\"\\nThe current temperature in [bold]{location}[/bold] is [bold]{temperature}℉[/bold], {condition}\\n\")\n",
        "\n",
        "def generate_itenary(origin, destination, duration):\n",
        "  print(f\"\\n\\nGenerating itinerary from {origin} to {destination}..\\n\")\n",
        "\n",
        "  prompt = f\"Generate a travel itinerary from {origin} to {destination} in {duration} days. This is a road trip, keep it short, less than 15 lines, add some emojis. Add an estimated price of each day in USD and weather condition of each step.\"\n",
        "  context = \"You are a travel specialist and know the best tourist spots around the world\"\n",
        "  api_key = \"4f3b0tf3219b4c7758082d0o48eabbbe\"\n",
        "  api_url = f\"https://api.shecodes.io/ai/v1/generate?prompt={prompt}&context={context}&key={api_key}\"\n",
        "\n",
        "  response = requests.get(api_url)\n",
        "  response_data = response.json()\n",
        "  itinerary = Markdown(response_data['answer'])\n",
        "\n",
        "  print(itinerary)\n",
        "\n",
        "def welcome():\n",
        " print(\"[bold magenta]Welcome to the AI Travel Itinerary Planner[/bold magenta]\")\n",
        "\n",
        "\n",
        "def credit():\n",
        "  print(\"[magenta]This Ai Itinerary Planner was built by [bold]Latoya Natasha Kissoon Campbell[/bold]. Thank you for using my AI Travel Planner!❤️[/magenta]\")\n",
        "welcome()\n",
        "\n",
        "\n",
        "origin = input(\"What city does your trip start from? \")\n",
        "destination = input(\"What city is your trip going to? \")\n",
        "duration = input(\"How many days will your trip last? (enter a number only, i.e) \")\n",
        "\n",
        "if origin and destination and duration:\n",
        "  display_current_weather(origin)\n",
        "  display_current_weather(destination)\n",
        "  generate_itenary(origin, destination, duration)\n",
        "  credit()\n",
        "else:\n",
        "  print(\"Sonething is wrong, please try again. Enter valid information\")"
      ]
    }
  ]
}