{
  "nbformat": 4,
  "nbformat_minor": 0,
  "metadata": {
    "colab": {
      "provenance": [],
      "authorship_tag": "ABX9TyMElHF+/+xFaUJ685MTYeCg",
      "include_colab_link": true
    },
    "kernelspec": {
      "name": "python3",
      "display_name": "Python 3"
    },
    "language_info": {
      "name": "python"
    }
  },
  "cells": [
    {
      "cell_type": "markdown",
      "metadata": {
        "id": "view-in-github",
        "colab_type": "text"
      },
      "source": [
        "<a href=\"https://colab.research.google.com/github/LatoyaNatashaC/Latoyas-Ai-Travel-Planner/blob/main/Latoya's_Travel_Planner_Project.ipynb\" target=\"_parent\"><img src=\"https://colab.research.google.com/assets/colab-badge.svg\" alt=\"Open In Colab\"/></a>"
      ]
    },
    {
      "cell_type": "code",
      "execution_count": 17,
      "metadata": {
        "colab": {
          "base_uri": "https://localhost:8080/",
          "height": 106
        },
        "id": "tItlLPpqZ9-p",
        "outputId": "62a6f4bd-3a38-48ba-d7d3-c80c58011611"
      },
      "outputs": [
        {
          "output_type": "error",
          "ename": "IndentationError",
          "evalue": "expected an indented block after function definition on line 5 (<ipython-input-17-cd02a0c2735e>, line 7)",
          "traceback": [
            "\u001b[0;36m  File \u001b[0;32m\"<ipython-input-17-cd02a0c2735e>\"\u001b[0;36m, line \u001b[0;32m7\u001b[0m\n\u001b[0;31m    def generate_itenary(origin, destination, duration):\u001b[0m\n\u001b[0m    ^\u001b[0m\n\u001b[0;31mIndentationError\u001b[0m\u001b[0;31m:\u001b[0m expected an indented block after function definition on line 5\n"
          ]
        }
      ],
      "source": [
        "import requests\n",
        "from rich import print\n",
        "from rich.markdown import Markdown\n",
        "\n",
        "def display_current_weather(origin, destination):\n",
        "\n",
        "def generate_itenary(origin, destination, duration):\n",
        "  print(f\"\\n\\nGenerating itinerary from {origin} to {destination}..\\n\")\n",
        "\n",
        "  prompt = f\"Generate a travel itinerary from {origin} to {destination} in {duration} days. This is a road trip, keep it short, less than 15 lines, add some emojis. Add an estimated price of each day in USD.\"\n",
        "  context = \"You are a travel specialist and know the best tourist spots around the world\"\n",
        "  api_key = \"4f3b0tf3219b4c7758082d0o48eabbbe\"\n",
        "  api_url = f\"https://api.shecodes.io/ai/v1/generate?prompt={prompt}&context={context}&key={api_key}\"\n",
        "\n",
        "  response = requests.get(api_url)\n",
        "  response_data = response.json()\n",
        "  itinerary = Markdown(response_data['answer'])\n",
        "\n",
        "  print(itinerary)\n",
        "\n",
        "origin = input(\"What city does your trip start from? \")\n",
        "destination = input(\"What city is your trip going to? \")\n",
        "duration = input(\"How many days will your trip last? (enter a number only, i.e) \")\n",
        "\n",
        "if origin and destination and duration:\n",
        "  display_current_weather(origin, destination)\n",
        "\n",
        "  generate_itenary(origin, destination, duration)\n",
        "else:\n",
        "  print(\"Sonething is wrong, please try again. Enter valid information\")"
      ]
    },
    {
      "cell_type": "code",
      "execution_count": null,
      "metadata": {
        "colab": {
          "base_uri": "https://localhost:8080/",
          "height": 974
        },
        "outputId": "120087ae-3cbe-4d7b-ebbc-7803a5d987a0",
        "id": "f41FZDWrQ9ZH"
      },
      "outputs": [
        {
          "name": "stdout",
          "output_type": "stream",
          "text": [
            "What city does your trip start from? Los Angeles\n",
            "What city is your trip going to? Brazil\n",
            "How many days will your trip last? (enter a number only, i.e) 7\n"
          ]
        },
        {
          "output_type": "display_data",
          "data": {
            "text/plain": [
              "\n",
              "\n",
              "Generating itinerary from Los Angeles to Brazil..\n",
              "\n"
            ],
            "text/html": [
              "<pre style=\"white-space:pre;overflow-x:auto;line-height:normal;font-family:Menlo,'DejaVu Sans Mono',consolas,'Courier New',monospace\">\n",
              "\n",
              "Generating itinerary from Los Angeles to Brazil..\n",
              "\n",
              "</pre>\n"
            ]
          },
          "metadata": {}
        },
        {
          "output_type": "display_data",
          "data": {
            "text/plain": [
              "\u001b[1m7-Day Road Trip Itinerary: Los Angeles to Brazil 🇺🇸➡️🇧🇷\u001b[0m                                                             \n",
              "\n",
              "\u001b[1mDay 1: Los Angeles to San Diego\u001b[0m                                                                                    \n",
              "\n",
              "\u001b[1;33m • \u001b[0mDepart LA 🌆, drive to San Diego (2 hrs)                                                                        \n",
              "\u001b[1;33m • \u001b[0mVisit Balboa Park & La Jolla Cove 🐬                                                                            \n",
              "\u001b[1;33m • \u001b[0mEstimated cost: $150 (gas, food, and attractions)                                                               \n",
              "\n",
              "\u001b[1mDay 2: San Diego to Tijuana\u001b[0m                                                                                        \n",
              "\n",
              "\u001b[1;33m • \u001b[0mCross border to Tijuana 🇲🇽 (30 mins)                                                                            \n",
              "\u001b[1;33m • \u001b[0mExplore Avenida Revolución and food markets 🌮                                                                  \n",
              "\u001b[1;33m • \u001b[0mReturn to San Diego for the night                                                                               \n",
              "\u001b[1;33m • \u001b[0mEstimated cost: $100 (gas, food, and activities)                                                                \n",
              "\n",
              "\u001b[1mDay 3: San Diego to Phoenix\u001b[0m                                                                                        \n",
              "\n",
              "\u001b[1;33m • \u001b[0mDrive to Phoenix, AZ (5 hrs) 🚗                                                                                 \n",
              "\u001b[1;33m • \u001b[0mVisit Desert Botanical Garden 🌵                                                                                \n",
              "\u001b[1;33m • \u001b[0mEstimated cost: $130 (gas, food, and activities)                                                                \n",
              "\n",
              "\u001b[1mDay 4: Phoenix to El Paso\u001b[0m                                                                                          \n",
              "\n",
              "\u001b[1;33m • \u001b[0mDrive to El Paso, TX (7 hrs) 🌄                                                                                 \n",
              "\u001b[1;33m • \u001b[0mExplore the city and visit Franklin Mountains                                                                   \n",
              "\u001b[1;33m • \u001b[0mEstimated cost: $150 (gas, food, and a hotel stay)                                                              \n",
              "\n",
              "\u001b[1mDay 5: El Paso to San Antonio\u001b[0m                                                                                      \n",
              "\n",
              "\u001b[1;33m • \u001b[0mDrive to San Antonio (9 hrs) 📍                                                                                 \n",
              "\u001b[1;33m • \u001b[0mVisit The Alamo and River Walk 🚤                                                                               \n",
              "\u001b[1;33m • \u001b[0mEstimated cost: $150 (gas, food, and attractions)                                                               \n",
              "\n",
              "\u001b[1mDay 6: San Antonio to Houston\u001b[0m                                                                                      \n",
              "\n",
              "\u001b[1;33m • \u001b[0mDrive to Houston (3 hrs) 🌇                                                                                     \n",
              "\u001b[1;33m • \u001b[0mVisit Space Center Houston 🚀                                                                                   \n",
              "\u001b[1;33m • \u001b[0mEstimated cost: $120 (gas, food, and attractions)                                                               \n",
              "\n",
              "\u001b[1mDay 7: Houston to Rio de Janeiro\u001b[0m                                                                                   \n",
              "\n",
              "\u001b[1;33m • \u001b[0mFly from Houston to Rio (10 hrs flight) ✈️                                                                       \n",
              "\u001b[1;33m • \u001b[0mArrive in Brazil; enjoy Copacabana Beach 🏖️                                                                      \n",
              "\u001b[1;33m • \u001b[0mEstimated cost: $600 (flight ticket)                                                                            \n",
              "\n",
              "\u001b[1mTotal Estimated Cost: $1,000\u001b[0m                                                                                       \n",
              "\u001b[3mEnjoy your adventurous road trip and the vibrant culture of Brazil!\u001b[0m 🌍✈️                                            \n"
            ],
            "text/html": [
              "<pre style=\"white-space:pre;overflow-x:auto;line-height:normal;font-family:Menlo,'DejaVu Sans Mono',consolas,'Courier New',monospace\"><span style=\"font-weight: bold\">7-Day Road Trip Itinerary: Los Angeles to Brazil 🇺🇸➡️🇧🇷</span>                                                             \n",
              "\n",
              "<span style=\"font-weight: bold\">Day 1: Los Angeles to San Diego</span>                                                                                    \n",
              "\n",
              "<span style=\"color: #808000; text-decoration-color: #808000; font-weight: bold\"> • </span>Depart LA 🌆, drive to San Diego (2 hrs)                                                                        \n",
              "<span style=\"color: #808000; text-decoration-color: #808000; font-weight: bold\"> • </span>Visit Balboa Park &amp; La Jolla Cove 🐬                                                                            \n",
              "<span style=\"color: #808000; text-decoration-color: #808000; font-weight: bold\"> • </span>Estimated cost: $150 (gas, food, and attractions)                                                               \n",
              "\n",
              "<span style=\"font-weight: bold\">Day 2: San Diego to Tijuana</span>                                                                                        \n",
              "\n",
              "<span style=\"color: #808000; text-decoration-color: #808000; font-weight: bold\"> • </span>Cross border to Tijuana 🇲🇽 (30 mins)                                                                            \n",
              "<span style=\"color: #808000; text-decoration-color: #808000; font-weight: bold\"> • </span>Explore Avenida Revolución and food markets 🌮                                                                  \n",
              "<span style=\"color: #808000; text-decoration-color: #808000; font-weight: bold\"> • </span>Return to San Diego for the night                                                                               \n",
              "<span style=\"color: #808000; text-decoration-color: #808000; font-weight: bold\"> • </span>Estimated cost: $100 (gas, food, and activities)                                                                \n",
              "\n",
              "<span style=\"font-weight: bold\">Day 3: San Diego to Phoenix</span>                                                                                        \n",
              "\n",
              "<span style=\"color: #808000; text-decoration-color: #808000; font-weight: bold\"> • </span>Drive to Phoenix, AZ (5 hrs) 🚗                                                                                 \n",
              "<span style=\"color: #808000; text-decoration-color: #808000; font-weight: bold\"> • </span>Visit Desert Botanical Garden 🌵                                                                                \n",
              "<span style=\"color: #808000; text-decoration-color: #808000; font-weight: bold\"> • </span>Estimated cost: $130 (gas, food, and activities)                                                                \n",
              "\n",
              "<span style=\"font-weight: bold\">Day 4: Phoenix to El Paso</span>                                                                                          \n",
              "\n",
              "<span style=\"color: #808000; text-decoration-color: #808000; font-weight: bold\"> • </span>Drive to El Paso, TX (7 hrs) 🌄                                                                                 \n",
              "<span style=\"color: #808000; text-decoration-color: #808000; font-weight: bold\"> • </span>Explore the city and visit Franklin Mountains                                                                   \n",
              "<span style=\"color: #808000; text-decoration-color: #808000; font-weight: bold\"> • </span>Estimated cost: $150 (gas, food, and a hotel stay)                                                              \n",
              "\n",
              "<span style=\"font-weight: bold\">Day 5: El Paso to San Antonio</span>                                                                                      \n",
              "\n",
              "<span style=\"color: #808000; text-decoration-color: #808000; font-weight: bold\"> • </span>Drive to San Antonio (9 hrs) 📍                                                                                 \n",
              "<span style=\"color: #808000; text-decoration-color: #808000; font-weight: bold\"> • </span>Visit The Alamo and River Walk 🚤                                                                               \n",
              "<span style=\"color: #808000; text-decoration-color: #808000; font-weight: bold\"> • </span>Estimated cost: $150 (gas, food, and attractions)                                                               \n",
              "\n",
              "<span style=\"font-weight: bold\">Day 6: San Antonio to Houston</span>                                                                                      \n",
              "\n",
              "<span style=\"color: #808000; text-decoration-color: #808000; font-weight: bold\"> • </span>Drive to Houston (3 hrs) 🌇                                                                                     \n",
              "<span style=\"color: #808000; text-decoration-color: #808000; font-weight: bold\"> • </span>Visit Space Center Houston 🚀                                                                                   \n",
              "<span style=\"color: #808000; text-decoration-color: #808000; font-weight: bold\"> • </span>Estimated cost: $120 (gas, food, and attractions)                                                               \n",
              "\n",
              "<span style=\"font-weight: bold\">Day 7: Houston to Rio de Janeiro</span>                                                                                   \n",
              "\n",
              "<span style=\"color: #808000; text-decoration-color: #808000; font-weight: bold\"> • </span>Fly from Houston to Rio (10 hrs flight) ✈️                                                                       \n",
              "<span style=\"color: #808000; text-decoration-color: #808000; font-weight: bold\"> • </span>Arrive in Brazil; enjoy Copacabana Beach 🏖️                                                                      \n",
              "<span style=\"color: #808000; text-decoration-color: #808000; font-weight: bold\"> • </span>Estimated cost: $600 (flight ticket)                                                                            \n",
              "\n",
              "<span style=\"font-weight: bold\">Total Estimated Cost: $1,000</span>                                                                                       \n",
              "<span style=\"font-style: italic\">Enjoy your adventurous road trip and the vibrant culture of Brazil!</span> 🌍✈️                                            \n",
              "</pre>\n"
            ]
          },
          "metadata": {}
        }
      ],
      "source": [
        "import requests\n",
        "from rich import print\n",
        "from rich.markdown import Markdown\n",
        "\n",
        "def display_current_weather(origin, destination):\n",
        "\n",
        "def generate_itenary(origin, destination, duration):\n",
        "  print(f\"\\n\\nGenerating itinerary from {origin} to {destination}..\\n\")\n",
        "\n",
        "  prompt = f\"Generate a travel itinerary from {origin} to {destination} in {duration} days. This is a road trip, keep it short, less than 15 lines, add some emojis. Add an estimated price of each day in USD.\"\n",
        "  context = \"You are a travel specialist and know the best tourist spots around the world\"\n",
        "  api_key = \"4f3b0tf3219b4c7758082d0o48eabbbe\"\n",
        "  api_url = f\"https://api.shecodes.io/ai/v1/generate?prompt={prompt}&context={context}&key={api_key}\"\n",
        "\n",
        "  response = requests.get(api_url)\n",
        "  response_data = response.json()\n",
        "  itinerary = Markdown(response_data['answer'])\n",
        "\n",
        "  print(itinerary)\n",
        "\n",
        "origin = input(\"What city does your trip start from? \")\n",
        "destination = input(\"What city is your trip going to? \")\n",
        "duration = input(\"How many days will your trip last? (enter a number only, i.e) \")\n",
        "\n",
        "if origin and destination and duration:\n",
        "  display_current_weather(origin, destination)\n",
        "\n",
        "  generate_itenary(origin, destination, duration)\n",
        "else:\n",
        "  print(\"Sonething is wrong, please try again. Enter valid information\")"
      ]
    },
    {
      "cell_type": "code",
      "execution_count": 28,
      "metadata": {
        "colab": {
          "base_uri": "https://localhost:8080/",
          "height": 1000
        },
        "outputId": "7351e249-7a84-4a4e-de58-62650f88f4d6",
        "id": "zogDb1CaRFJB"
      },
      "outputs": [
        {
          "output_type": "display_data",
          "data": {
            "text/plain": [
              "\u001b[1;35mWelcome to the AI Travel Itinerary Planner\u001b[0m\n"
            ],
            "text/html": [
              "<pre style=\"white-space:pre;overflow-x:auto;line-height:normal;font-family:Menlo,'DejaVu Sans Mono',consolas,'Courier New',monospace\"><span style=\"color: #800080; text-decoration-color: #800080; font-weight: bold\">Welcome to the AI Travel Itinerary Planner</span>\n",
              "</pre>\n"
            ]
          },
          "metadata": {}
        },
        {
          "name": "stdout",
          "output_type": "stream",
          "text": [
            "What city does your trip start from? Los Angeles\n",
            "What city is your trip going to? Brazil\n",
            "How many days will your trip last? (enter a number only, i.e) 7\n"
          ]
        },
        {
          "output_type": "display_data",
          "data": {
            "text/plain": [
              "\n",
              "The current temperature in \u001b[1mLos Angeles\u001b[0m is \u001b[1;36m52\u001b[0m\u001b[1m℉\u001b[0m, clear sky\n",
              "\n"
            ],
            "text/html": [
              "<pre style=\"white-space:pre;overflow-x:auto;line-height:normal;font-family:Menlo,'DejaVu Sans Mono',consolas,'Courier New',monospace\">\n",
              "The current temperature in <span style=\"font-weight: bold\">Los Angeles</span> is <span style=\"color: #008080; text-decoration-color: #008080; font-weight: bold\">52</span><span style=\"font-weight: bold\">℉</span>, clear sky\n",
              "\n",
              "</pre>\n"
            ]
          },
          "metadata": {}
        },
        {
          "output_type": "display_data",
          "data": {
            "text/plain": [
              "\n",
              "The current temperature in \u001b[1mBrazil\u001b[0m is \u001b[1;36m49\u001b[0m\u001b[1m℉\u001b[0m, overcast clouds\n",
              "\n"
            ],
            "text/html": [
              "<pre style=\"white-space:pre;overflow-x:auto;line-height:normal;font-family:Menlo,'DejaVu Sans Mono',consolas,'Courier New',monospace\">\n",
              "The current temperature in <span style=\"font-weight: bold\">Brazil</span> is <span style=\"color: #008080; text-decoration-color: #008080; font-weight: bold\">49</span><span style=\"font-weight: bold\">℉</span>, overcast clouds\n",
              "\n",
              "</pre>\n"
            ]
          },
          "metadata": {}
        },
        {
          "output_type": "display_data",
          "data": {
            "text/plain": [
              "\n",
              "\n",
              "Generating itinerary from Los Angeles to Brazil..\n",
              "\n"
            ],
            "text/html": [
              "<pre style=\"white-space:pre;overflow-x:auto;line-height:normal;font-family:Menlo,'DejaVu Sans Mono',consolas,'Courier New',monospace\">\n",
              "\n",
              "Generating itinerary from Los Angeles to Brazil..\n",
              "\n",
              "</pre>\n"
            ]
          },
          "metadata": {}
        },
        {
          "output_type": "display_data",
          "data": {
            "text/plain": [
              "                              \u001b[1m7-Day Road Trip Itinerary from Los Angeles to Brazil 🇧🇷\u001b[0m                              \n",
              "\n",
              "\u001b[1mDay 1: Los Angeles to San Diego\u001b[0m                                                                                    \n",
              "\n",
              "\u001b[1;33m • \u001b[0m\u001b[1mDistance\u001b[0m: 120 miles                                                                                             \n",
              "\u001b[1;33m • \u001b[0m\u001b[1mWeather\u001b[0m: Sunny, 75°F ☀️                                                                                          \n",
              "\u001b[1;33m • \u001b[0m\u001b[1mActivities\u001b[0m: Visit Balboa Park and La Jolla Cove.                                                                \n",
              "\u001b[1;33m • \u001b[0m\u001b[1mEstimated Cost\u001b[0m: $150                                                                                            \n",
              "\n",
              "\u001b[1mDay 2: San Diego to Tijuana, Mexico\u001b[0m                                                                                \n",
              "\n",
              "\u001b[1;33m • \u001b[0m\u001b[1mDistance\u001b[0m: 30 miles                                                                                              \n",
              "\u001b[1;33m • \u001b[0m\u001b[1mWeather\u001b[0m: Warm, 80°F 🌞                                                                                          \n",
              "\u001b[1;33m • \u001b[0m\u001b[1mActivities\u001b[0m: Explore the vibrant Tijuana markets.                                                                \n",
              "\u001b[1;33m • \u001b[0m\u001b[1mEstimated Cost\u001b[0m: $100                                                                                            \n",
              "\n",
              "\u001b[1mDay 3: Tijuana to Hermosillo, Mexico\u001b[0m                                                                               \n",
              "\n",
              "\u001b[1;33m • \u001b[0m\u001b[1mDistance\u001b[0m: 260 miles                                                                                             \n",
              "\u001b[1;33m • \u001b[0m\u001b[1mWeather\u001b[0m: Hot, 90°F 🔥                                                                                           \n",
              "\u001b[1;33m • \u001b[0m\u001b[1mActivities\u001b[0m: Visit the Plaza Zaragoza.                                                                           \n",
              "\u001b[1;33m • \u001b[0m\u001b[1mEstimated Cost\u001b[0m: $120                                                                                            \n",
              "\n",
              "\u001b[1mDay 4: Hermosillo to Mazatlán\u001b[0m                                                                                      \n",
              "\n",
              "\u001b[1;33m • \u001b[0m\u001b[1mDistance\u001b[0m: 350 miles                                                                                             \n",
              "\u001b[1;33m • \u001b[0m\u001b[1mWeather\u001b[0m: Tropical, 85°F 🌴                                                                                      \n",
              "\u001b[1;33m • \u001b[0m\u001b[1mActivities\u001b[0m: Relax on the beaches.                                                                               \n",
              "\u001b[1;33m • \u001b[0m\u001b[1mEstimated Cost\u001b[0m: $130                                                                                            \n",
              "\n",
              "\u001b[1mDay 5: Mazatlán to Guadalajara\u001b[0m                                                                                     \n",
              "\n",
              "\u001b[1;33m • \u001b[0m\u001b[1mDistance\u001b[0m: 300 miles                                                                                             \n",
              "\u001b[1;33m • \u001b[0m\u001b[1mWeather\u001b[0m: Mild, 78°F 🌤️                                                                                           \n",
              "\u001b[1;33m • \u001b[0m\u001b[1mActivities\u001b[0m: Explore the historic downtown area.                                                                 \n",
              "\u001b[1;33m • \u001b[0m\u001b[1mEstimated Cost\u001b[0m: $120                                                                                            \n",
              "\n",
              "\u001b[1mDay 6: Guadalajara to San Luis Potosí\u001b[0m                                                                              \n",
              "\n",
              "\u001b[1;33m • \u001b[0m\u001b[1mDistance\u001b[0m: 250 miles                                                                                             \n",
              "\u001b[1;33m • \u001b[0m\u001b[1mWeather\u001b[0m: Warm, 80°F 🌞                                                                                          \n",
              "\u001b[1;33m • \u001b[0m\u001b[1mActivities\u001b[0m: Visit the Huasteca Potosina.                                                                        \n",
              "\u001b[1;33m • \u001b[0m\u001b[1mEstimated Cost\u001b[0m: $110                                                                                            \n",
              "\n",
              "\u001b[1mDay 7: San Luis Potosí to Mexico City\u001b[0m                                                                              \n",
              "\n",
              "\u001b[1;33m • \u001b[0m\u001b[1mDistance\u001b[0m: 250 miles                                                                                             \n",
              "\u001b[1;33m • \u001b[0m\u001b[1mWeather\u001b[0m: Cool, 65°F 🌥️                                                                                           \n",
              "\u001b[1;33m • \u001b[0m\u001b[1mActivities\u001b[0m: Explore the Zócalo and local cuisine.                                                               \n",
              "\u001b[1;33m • \u001b[0m\u001b[1mEstimated Cost\u001b[0m: $140                                                                                            \n",
              "\n",
              "                                           \u001b[1mTotal Estimated Cost: $1,020\u001b[0m                                            \n",
              "\n",
              "                                              \u001b[1mAdventure Awaits! 🌎🚗\u001b[0m                                               \n"
            ],
            "text/html": [
              "<pre style=\"white-space:pre;overflow-x:auto;line-height:normal;font-family:Menlo,'DejaVu Sans Mono',consolas,'Courier New',monospace\">                              <span style=\"font-weight: bold\">7-Day Road Trip Itinerary from Los Angeles to Brazil 🇧🇷</span>                              \n",
              "\n",
              "<span style=\"font-weight: bold\">Day 1: Los Angeles to San Diego</span>                                                                                    \n",
              "\n",
              "<span style=\"color: #808000; text-decoration-color: #808000; font-weight: bold\"> • </span><span style=\"font-weight: bold\">Distance</span>: 120 miles                                                                                             \n",
              "<span style=\"color: #808000; text-decoration-color: #808000; font-weight: bold\"> • </span><span style=\"font-weight: bold\">Weather</span>: Sunny, 75°F ☀️                                                                                          \n",
              "<span style=\"color: #808000; text-decoration-color: #808000; font-weight: bold\"> • </span><span style=\"font-weight: bold\">Activities</span>: Visit Balboa Park and La Jolla Cove.                                                                \n",
              "<span style=\"color: #808000; text-decoration-color: #808000; font-weight: bold\"> • </span><span style=\"font-weight: bold\">Estimated Cost</span>: $150                                                                                            \n",
              "\n",
              "<span style=\"font-weight: bold\">Day 2: San Diego to Tijuana, Mexico</span>                                                                                \n",
              "\n",
              "<span style=\"color: #808000; text-decoration-color: #808000; font-weight: bold\"> • </span><span style=\"font-weight: bold\">Distance</span>: 30 miles                                                                                              \n",
              "<span style=\"color: #808000; text-decoration-color: #808000; font-weight: bold\"> • </span><span style=\"font-weight: bold\">Weather</span>: Warm, 80°F 🌞                                                                                          \n",
              "<span style=\"color: #808000; text-decoration-color: #808000; font-weight: bold\"> • </span><span style=\"font-weight: bold\">Activities</span>: Explore the vibrant Tijuana markets.                                                                \n",
              "<span style=\"color: #808000; text-decoration-color: #808000; font-weight: bold\"> • </span><span style=\"font-weight: bold\">Estimated Cost</span>: $100                                                                                            \n",
              "\n",
              "<span style=\"font-weight: bold\">Day 3: Tijuana to Hermosillo, Mexico</span>                                                                               \n",
              "\n",
              "<span style=\"color: #808000; text-decoration-color: #808000; font-weight: bold\"> • </span><span style=\"font-weight: bold\">Distance</span>: 260 miles                                                                                             \n",
              "<span style=\"color: #808000; text-decoration-color: #808000; font-weight: bold\"> • </span><span style=\"font-weight: bold\">Weather</span>: Hot, 90°F 🔥                                                                                           \n",
              "<span style=\"color: #808000; text-decoration-color: #808000; font-weight: bold\"> • </span><span style=\"font-weight: bold\">Activities</span>: Visit the Plaza Zaragoza.                                                                           \n",
              "<span style=\"color: #808000; text-decoration-color: #808000; font-weight: bold\"> • </span><span style=\"font-weight: bold\">Estimated Cost</span>: $120                                                                                            \n",
              "\n",
              "<span style=\"font-weight: bold\">Day 4: Hermosillo to Mazatlán</span>                                                                                      \n",
              "\n",
              "<span style=\"color: #808000; text-decoration-color: #808000; font-weight: bold\"> • </span><span style=\"font-weight: bold\">Distance</span>: 350 miles                                                                                             \n",
              "<span style=\"color: #808000; text-decoration-color: #808000; font-weight: bold\"> • </span><span style=\"font-weight: bold\">Weather</span>: Tropical, 85°F 🌴                                                                                      \n",
              "<span style=\"color: #808000; text-decoration-color: #808000; font-weight: bold\"> • </span><span style=\"font-weight: bold\">Activities</span>: Relax on the beaches.                                                                               \n",
              "<span style=\"color: #808000; text-decoration-color: #808000; font-weight: bold\"> • </span><span style=\"font-weight: bold\">Estimated Cost</span>: $130                                                                                            \n",
              "\n",
              "<span style=\"font-weight: bold\">Day 5: Mazatlán to Guadalajara</span>                                                                                     \n",
              "\n",
              "<span style=\"color: #808000; text-decoration-color: #808000; font-weight: bold\"> • </span><span style=\"font-weight: bold\">Distance</span>: 300 miles                                                                                             \n",
              "<span style=\"color: #808000; text-decoration-color: #808000; font-weight: bold\"> • </span><span style=\"font-weight: bold\">Weather</span>: Mild, 78°F 🌤️                                                                                           \n",
              "<span style=\"color: #808000; text-decoration-color: #808000; font-weight: bold\"> • </span><span style=\"font-weight: bold\">Activities</span>: Explore the historic downtown area.                                                                 \n",
              "<span style=\"color: #808000; text-decoration-color: #808000; font-weight: bold\"> • </span><span style=\"font-weight: bold\">Estimated Cost</span>: $120                                                                                            \n",
              "\n",
              "<span style=\"font-weight: bold\">Day 6: Guadalajara to San Luis Potosí</span>                                                                              \n",
              "\n",
              "<span style=\"color: #808000; text-decoration-color: #808000; font-weight: bold\"> • </span><span style=\"font-weight: bold\">Distance</span>: 250 miles                                                                                             \n",
              "<span style=\"color: #808000; text-decoration-color: #808000; font-weight: bold\"> • </span><span style=\"font-weight: bold\">Weather</span>: Warm, 80°F 🌞                                                                                          \n",
              "<span style=\"color: #808000; text-decoration-color: #808000; font-weight: bold\"> • </span><span style=\"font-weight: bold\">Activities</span>: Visit the Huasteca Potosina.                                                                        \n",
              "<span style=\"color: #808000; text-decoration-color: #808000; font-weight: bold\"> • </span><span style=\"font-weight: bold\">Estimated Cost</span>: $110                                                                                            \n",
              "\n",
              "<span style=\"font-weight: bold\">Day 7: San Luis Potosí to Mexico City</span>                                                                              \n",
              "\n",
              "<span style=\"color: #808000; text-decoration-color: #808000; font-weight: bold\"> • </span><span style=\"font-weight: bold\">Distance</span>: 250 miles                                                                                             \n",
              "<span style=\"color: #808000; text-decoration-color: #808000; font-weight: bold\"> • </span><span style=\"font-weight: bold\">Weather</span>: Cool, 65°F 🌥️                                                                                           \n",
              "<span style=\"color: #808000; text-decoration-color: #808000; font-weight: bold\"> • </span><span style=\"font-weight: bold\">Activities</span>: Explore the Zócalo and local cuisine.                                                               \n",
              "<span style=\"color: #808000; text-decoration-color: #808000; font-weight: bold\"> • </span><span style=\"font-weight: bold\">Estimated Cost</span>: $140                                                                                            \n",
              "\n",
              "                                           <span style=\"font-weight: bold\">Total Estimated Cost: $1,020</span>                                            \n",
              "\n",
              "                                              <span style=\"font-weight: bold\">Adventure Awaits! 🌎🚗</span>                                               \n",
              "</pre>\n"
            ]
          },
          "metadata": {}
        },
        {
          "output_type": "display_data",
          "data": {
            "text/plain": [
              "\u001b[35mThis Ai Itinerary Planner was built by \u001b[0m\u001b[1;35mLatoya Natasha Kissoon Campbell\u001b[0m\u001b[35m. Thank you for using my AI Travel Planner!❤️\u001b[0m\n"
            ],
            "text/html": [
              "<pre style=\"white-space:pre;overflow-x:auto;line-height:normal;font-family:Menlo,'DejaVu Sans Mono',consolas,'Courier New',monospace\"><span style=\"color: #800080; text-decoration-color: #800080\">This Ai Itinerary Planner was built by </span><span style=\"color: #800080; text-decoration-color: #800080; font-weight: bold\">Latoya Natasha Kissoon Campbell</span><span style=\"color: #800080; text-decoration-color: #800080\">. Thank you for using my AI Travel Planner!❤️</span>\n",
              "</pre>\n"
            ]
          },
          "metadata": {}
        }
      ],
      "source": [
        "import requests\n",
        "from rich import print\n",
        "from rich.markdown import Markdown\n",
        "\n",
        "def display_current_weather(location):\n",
        "  api_key = \"4f3b0tf3219b4c7758082d0o48eabbbe\"\n",
        "  api_url = f\"https://api.shecodes.io/weather/v1/current?query={location}&key={api_key}&units=imperial\"\n",
        "\n",
        "  response = requests.get(api_url)\n",
        "  response_data = response.json()\n",
        "\n",
        "  temperature = round(response_data['temperature']['current'])\n",
        "  condition = response_data['condition']['description']\n",
        "\n",
        "  print(f\"\\nThe current temperature in [bold]{location}[/bold] is [bold]{temperature}℉[/bold], {condition}\\n\")\n",
        "\n",
        "def generate_itenary(origin, destination, duration):\n",
        "  print(f\"\\n\\nGenerating itinerary from {origin} to {destination}..\\n\")\n",
        "\n",
        "  prompt = f\"Generate a travel itinerary from {origin} to {destination} in {duration} days. This is a road trip, keep it short, less than 15 lines, add some emojis. Add an estimated price of each day in USD and weather condition of each step.\"\n",
        "  context = \"You are a travel specialist and know the best tourist spots around the world\"\n",
        "  api_key = \"4f3b0tf3219b4c7758082d0o48eabbbe\"\n",
        "  api_url = f\"https://api.shecodes.io/ai/v1/generate?prompt={prompt}&context={context}&key={api_key}\"\n",
        "\n",
        "  response = requests.get(api_url)\n",
        "  response_data = response.json()\n",
        "  itinerary = Markdown(response_data['answer'])\n",
        "\n",
        "  print(itinerary)\n",
        "\n",
        "def welcome():\n",
        " print(\"[bold magenta]Welcome to the AI Travel Itinerary Planner[/bold magenta]\")\n",
        "\n",
        "\n",
        "def credit():\n",
        "  print(\"[magenta]This Ai Itinerary Planner was built by [bold]Latoya Natasha Kissoon Campbell[/bold]. Thank you for using my AI Travel Planner!❤️[/magenta]\")\n",
        "welcome()\n",
        "\n",
        "\n",
        "origin = input(\"What city does your trip start from? \")\n",
        "destination = input(\"What city is your trip going to? \")\n",
        "duration = input(\"How many days will your trip last? (enter a number only, i.e) \")\n",
        "\n",
        "if origin and destination and duration:\n",
        "  display_current_weather(origin)\n",
        "  display_current_weather(destination)\n",
        "  generate_itenary(origin, destination, duration)\n",
        "  credit()\n",
        "else:\n",
        "  print(\"Sonething is wrong, please try again. Enter valid information\")"
      ]
    }
  ]
}